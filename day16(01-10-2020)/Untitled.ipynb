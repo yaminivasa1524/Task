{
 "cells": [
  {
   "cell_type": "markdown",
   "metadata": {},
   "source": [
    "### file handling\n",
    " - what is a file\n",
    " - what is file handling\n",
    " - file methods \n",
    " - different modes\n",
    " - use of with stmt\n",
    " - file :\n",
    "         - file is saved in some locations on local system to store some information\n",
    "- ex:-\n",
    "     - txt,.jpg,.html,.ipyb,.png,.pdf\n",
    "- file handling :\n",
    "   - create ,reading, update,delete\n",
    "   - create\n",
    "   - open \n",
    "   - working\n",
    "   - close\n",
    "- File methods\n",
    "  - open()\n",
    "       - syntax : file_obj=open(\"filename\",mode\")\n",
    "   - read()\n",
    "        - syntax : file_obj.read(size)\n",
    "   - write()\n",
    "        - syntax : file_obj.write(data)\n",
    "   - close()\n",
    "        - synatax : file_obj.close()\n",
    "   - readlines()\n",
    "        - syntax : file_obj.readlines()\n",
    "        \n",
    "\n",
    "- Different Modes:\n",
    "    - open(\"filename\",'modes')\n",
    "    - open(\"filename\",\"r\")\n",
    "    - open(\"filename\",\"w\")\n",
    "    - open(\"filename\",\"a\")\n",
    "    - open(\"filename\",\"r+\")\n",
    "    - open(\"filename\",\"w+\")\n",
    "    \n",
    "    \n",
    "         "
   ]
  },
  {
   "cell_type": "code",
   "execution_count": 2,
   "metadata": {
    "scrolled": true
   },
   "outputs": [
    {
     "name": "stdout",
     "output_type": "stream",
     "text": [
      "done\n"
     ]
    }
   ],
   "source": [
    "# craeting a file \n",
    "f = open(\"file.txt\",\"w\")\n",
    "data = \"Welcome to python internship program\"\n",
    "f.write(data)\n",
    "print(\"done\")\n",
    "f.close()"
   ]
  },
  {
   "cell_type": "code",
   "execution_count": 8,
   "metadata": {},
   "outputs": [
    {
     "name": "stdout",
     "output_type": "stream",
     "text": [
      "Welcome to python internship program\n"
     ]
    }
   ],
   "source": [
    "# Reading the data\n",
    "\n",
    "file=open(\"file.txt\",\"r\")\n",
    "data1=file.read()\n",
    "print(data1)\n",
    "file.close()"
   ]
  },
  {
   "cell_type": "code",
   "execution_count": 32,
   "metadata": {},
   "outputs": [
    {
     "name": "stdout",
     "output_type": "stream",
     "text": [
      "completed\n"
     ]
    }
   ],
   "source": [
    "file = open(\"file.txt\",\"a\")\n",
    "data2 = \"django\"\n",
    "file.write(\"/n \"+\"hello everyone\")\n",
    "print(\"completed\")\n",
    "file.close()"
   ]
  },
  {
   "cell_type": "code",
   "execution_count": 36,
   "metadata": {},
   "outputs": [
    {
     "name": "stdout",
     "output_type": "stream",
     "text": [
      "Welcome to python internship program/nhello everyone/n hello everyone\n"
     ]
    }
   ],
   "source": [
    "with open(\"file.txt\",\"r\")as file:\n",
    "    data = file.read()\n",
    "    print(data)"
   ]
  },
  {
   "cell_type": "code",
   "execution_count": 13,
   "metadata": {},
   "outputs": [
    {
     "name": "stdout",
     "output_type": "stream",
     "text": [
      "Enter somedataApssdc is conducting online workshops\n",
      "completed....................\n"
     ]
    }
   ],
   "source": [
    "file = open(\"file2.txt\",\"w\")\n",
    "file.write(input(\"Enter somedata\"))\n",
    "print(\"completed\"+(\".\"*20))"
   ]
  },
  {
   "cell_type": "code",
   "execution_count": 15,
   "metadata": {},
   "outputs": [],
   "source": [
    "\n",
    "# replace with \\\\\n",
    "# \\ replace with /\n",
    "# r-> rawpath or rawlocation,r\"D:\\\"\"\n",
    " "
   ]
  },
  {
   "cell_type": "code",
   "execution_count": 3,
   "metadata": {
    "scrolled": true
   },
   "outputs": [
    {
     "name": "stdout",
     "output_type": "stream",
     "text": [
      "DAY3(16-09-2020)\n",
      "-----------------\n",
      "#installing  jupiter notebook\n",
      "    - to install this jupyter we have to run a commmand in command prompt\"\"pip install jupyter\"\"\n",
      "                                                      (or)\n",
      "    - open files select path &remove that path and type \"cmd\" then we will get command prompt in that we type \"jupyter notebook\"    \n",
      "\n",
      "extension jpynb ->interactive python notebook\n",
      "a-> creating shell up\n",
      "d(or)b->creating shell down\n",
      "markdown-> for theory mode ntg will shown  u in[]:\n",
      "--------------------------------------------\n",
      "\n",
      "only in markdown\n",
      "#->h1\n",
      "##->h2\n",
      "###->h3\n",
      "####->h4\n",
      "#####->h5\n",
      "######->h6 when we modify the content \"double click\" will be press\n",
      "------------------------------------------\n",
      "-//content//--->sub points-->it's look like a  circle bullets\n",
      "-###//content//--->square bullets\n",
      "<h1>i am p tag</h1>\n",
      "<a href=''>i am </a>\n",
      "<img src=\"\">\n",
      "<table border='1'>\n",
      "<tr><td></td>\n",
      "</tr>\n",
      "<table>\n",
      "\n",
      "-------------------------------------------------------------------\n",
      "-------------------------------------------------------------------\n",
      "day(17-09-2020)\n",
      "keywords:\n",
      " -they are specially resrved words(predefined variables)\n",
      " -so that we can't use them as userdfined variables \n",
      " - keywords will convey a special meaning to compiler/interpriter\n",
      "    ex:- int,float,str etc..,\n",
      "      int a=10;-> how much space is occupy\n",
      "when we wanr see keywords we use \"\"help()\"\"\n",
      " operators:\n",
      "   -it is symbol(+,-,*,% etc..,)\n",
      "   -it will perform arithmetic and logical operations \n",
      "TYPES OF OPERATORS (IN PYTHON):-\n",
      "1.ARITHMETIC OPERATORS\n",
      "      --->(+,-,*,%,/)IN PYTHON--->(+,-,*,/,%,**(EXP),//(FLOOR DIVISION))\n",
      "2.LOGICAL OPERATORS \n",
      "     ---->by using this operators we will compare two conditons\n",
      "3.BITWISE OPERATORS\n",
      "4.RELATIONAL OPERATORS\n",
      "5.ASSIGNMENT OPERATOR\n",
      "6.MEMBERSHIP OPERATORS\n",
      "7.IDENTITY OPERATORS\n",
      "\n",
      "@awseducate\n",
      "bitwise operators\n",
      "  --we will use bitwise operators to check binary values \n",
      "  \n",
      "\n"
     ]
    }
   ],
   "source": [
    "f = open(\"C:\\\\Users\\Durga\\Documents\\yamini10.txt\",\"r\")\n",
    "d = f.read()\n",
    "print(d)\n",
    "f.close()"
   ]
  },
  {
   "cell_type": "markdown",
   "metadata": {},
   "source": [
    "- File objective methods\n",
    "   - seek()\n",
    "      - used to change the cursor position\n",
    "   - tell()\n",
    "       - used to know the cursor position"
   ]
  },
  {
   "cell_type": "code",
   "execution_count": 26,
   "metadata": {
    "scrolled": true
   },
   "outputs": [
    {
     "name": "stdout",
     "output_type": "stream",
     "text": [
      "11\n",
      "Welcome to \n",
      "20\n"
     ]
    }
   ],
   "source": [
    "f=open(\"file.txt\",\"r\")\n",
    "data= f.read(11)\n",
    "print(f.tell())\n",
    "print(data)\n",
    "f.seek(20)\n",
    "print(f.tell())\n",
    "f.close()"
   ]
  },
  {
   "cell_type": "markdown",
   "metadata": {},
   "source": [
    "- Task:\n",
    "    - Read the data in reverse order"
   ]
  },
  {
   "cell_type": "code",
   "execution_count": 53,
   "metadata": {},
   "outputs": [
    {
     "name": "stdout",
     "output_type": "stream",
     "text": [
      "margorp pihsnretni nohtyp ot emocleW\n"
     ]
    }
   ],
   "source": [
    "f = open(\"file.txt\",\"w\")\n",
    "data = \"Welcome to python internship program\"\n",
    "f.write(data)\n",
    "f.close()\n",
    "\n",
    "with open(\"file.txt\",\"r\")as file:\n",
    "    data=file.read()\n",
    "    print(data[::-1])"
   ]
  },
  {
   "cell_type": "code",
   "execution_count": 47,
   "metadata": {},
   "outputs": [
    {
     "data": {
      "text/plain": [
       "'gnirts'"
      ]
     },
     "execution_count": 47,
     "metadata": {},
     "output_type": "execute_result"
    }
   ],
   "source": [
    "a=\"string\"\n",
    "a[::-1]"
   ]
  },
  {
   "cell_type": "code",
   "execution_count": 54,
   "metadata": {},
   "outputs": [
    {
     "name": "stdout",
     "output_type": "stream",
     "text": [
      "['Welcome to python internship program']\n"
     ]
    }
   ],
   "source": [
    "with open(\"file.txt\",\"r\")as file:\n",
    "    data=file.readlines()\n",
    "    print(data)"
   ]
  },
  {
   "cell_type": "code",
   "execution_count": 55,
   "metadata": {},
   "outputs": [
    {
     "name": "stdout",
     "output_type": "stream",
     "text": [
      "Welcome to python internship program\n"
     ]
    }
   ],
   "source": [
    "with open(\"file.txt\",\"r\")as file:\n",
    "    data=file.readlines()\n",
    "    for i in data:\n",
    "        print(i)\n",
    "    "
   ]
  },
  {
   "cell_type": "code",
   "execution_count": 56,
   "metadata": {
    "scrolled": true
   },
   "outputs": [
    {
     "name": "stdout",
     "output_type": "stream",
     "text": [
      "['Welcome to python internship program']\n",
      "['Welcome', 'to', 'python', 'internship', 'program']\n",
      "5\n"
     ]
    }
   ],
   "source": [
    "# split the data and find how many wordss are present in each line\n",
    "with open (\"file.txt\",\"r\")as file:\n",
    "    data = file.readlines()\n",
    "    print(data)\n",
    "    for lines in data:\n",
    "        words=lines.split(\" \")\n",
    "        print(words)\n",
    "        print(len(words))"
   ]
  },
  {
   "cell_type": "code",
   "execution_count": 57,
   "metadata": {},
   "outputs": [
    {
     "name": "stdout",
     "output_type": "stream",
     "text": [
      "W\n",
      "e\n",
      "l\n",
      "c\n",
      "o\n",
      "m\n",
      "e\n",
      " \n",
      "t\n",
      "o\n",
      " \n",
      "p\n",
      "y\n",
      "t\n",
      "h\n",
      "o\n",
      "n\n",
      " \n",
      "i\n",
      "n\n",
      "t\n",
      "e\n",
      "r\n",
      "n\n",
      "s\n",
      "h\n",
      "i\n",
      "p\n",
      " \n",
      "p\n",
      "r\n",
      "o\n",
      "g\n",
      "r\n",
      "a\n",
      "m\n"
     ]
    }
   ],
   "source": [
    "with open (\"file.txt\",\"r\")as file:\n",
    "    data=file.read()\n",
    "    for ele in data:\n",
    "        print(ele)"
   ]
  },
  {
   "cell_type": "code",
   "execution_count": 62,
   "metadata": {},
   "outputs": [
    {
     "name": "stdout",
     "output_type": "stream",
     "text": [
      "['Welcome to python internship program']\n",
      "Welcome ----> 7\n",
      "to ----> 2\n",
      "python ----> 6\n",
      "internship ----> 10\n",
      "program ----> 7\n"
     ]
    }
   ],
   "source": [
    "# find the length of each word and also print the word\n",
    "with open (\"file.txt\",\"r\")as file:\n",
    "    data = file.readlines()\n",
    "    print(data)\n",
    "    for lines in data:\n",
    "        words=lines.split(\" \")\n",
    "        #print(words)\n",
    "        #print(len(words))\n",
    "        for ele in words:\n",
    "            print(ele,\"---->\",len(ele))"
   ]
  },
  {
   "cell_type": "code",
   "execution_count": 66,
   "metadata": {},
   "outputs": [
    {
     "data": {
      "text/plain": [
       "{'hii': 2, '  hello': 1, ' hello': 1, ' everyone': 1}"
      ]
     },
     "execution_count": 66,
     "metadata": {},
     "output_type": "execute_result"
    }
   ],
   "source": [
    "# find out the frequency of each word\n",
    "#ex:-\"hii  hello hii hello everyone\"\n",
    "#d={\"hii\":2,\"hello\":2,\"everyone\":1}\n",
    "a=[\"hii\",\"  hello\", \"hii\",\" hello\",\" everyone\"]\n",
    "\n",
    "d={}\n",
    "for i in a:\n",
    "    d[i]=a.count(i)\n",
    "d"
   ]
  },
  {
   "cell_type": "code",
   "execution_count": 60,
   "metadata": {},
   "outputs": [
    {
     "name": "stdout",
     "output_type": "stream",
     "text": [
      "done\n"
     ]
    }
   ],
   "source": [
    "f = open(\"file5.txt\",\"w\")\n",
    "data = \"hiii hello hello hiii hiii\"\n",
    "f.write(data)\n",
    "print(\"done\")\n",
    "f.close()"
   ]
  },
  {
   "cell_type": "code",
   "execution_count": 61,
   "metadata": {},
   "outputs": [
    {
     "name": "stdout",
     "output_type": "stream",
     "text": [
      "hiii hello hello hiii hiii\n"
     ]
    }
   ],
   "source": [
    "file=open(\"file5.txt\",\"r\")\n",
    "data1=file.read()\n",
    "print(data1)\n",
    "file.close()"
   ]
  },
  {
   "cell_type": "code",
   "execution_count": 67,
   "metadata": {},
   "outputs": [
    {
     "name": "stdout",
     "output_type": "stream",
     "text": [
      "['hiii']\n",
      "['hello']\n",
      "['hello']\n",
      "['hiii']\n",
      "['hiii']\n"
     ]
    }
   ],
   "source": [
    "with open (\"file5.txt\",\"r\")as file:\n",
    "    data = file.read().split()\n",
    "    for lines in data:\n",
    "        words=lines.split(\" : \")\n",
    "        print(words)"
   ]
  },
  {
   "cell_type": "code",
   "execution_count": 63,
   "metadata": {},
   "outputs": [
    {
     "name": "stdout",
     "output_type": "stream",
     "text": [
      "Counter({'hiii': 3, 'hello': 2})\n"
     ]
    }
   ],
   "source": [
    "\n",
    "def word_count(words):\n",
    "        with open(\"file5.txt\",\"r\") as f:\n",
    "                return Counter(f.read().split())\n",
    "\n",
    "print(word_count(\"test.txt\"))"
   ]
  },
  {
   "cell_type": "code",
   "execution_count": 64,
   "metadata": {},
   "outputs": [],
   "source": [
    "with open('file5.txt','r') as file:\n",
    "    content = file.read().split()\n",
    "    freq_words = {word: content.count(word) for word in content}\n",
    "file.close()"
   ]
  },
  {
   "cell_type": "code",
   "execution_count": null,
   "metadata": {},
   "outputs": [],
   "source": []
  },
  {
   "cell_type": "code",
   "execution_count": null,
   "metadata": {},
   "outputs": [],
   "source": []
  }
 ],
 "metadata": {
  "kernelspec": {
   "display_name": "Python 3",
   "language": "python",
   "name": "python3"
  },
  "language_info": {
   "codemirror_mode": {
    "name": "ipython",
    "version": 3
   },
   "file_extension": ".py",
   "mimetype": "text/x-python",
   "name": "python",
   "nbconvert_exporter": "python",
   "pygments_lexer": "ipython3",
   "version": "3.7.4"
  }
 },
 "nbformat": 4,
 "nbformat_minor": 4
}

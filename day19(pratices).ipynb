{
 "cells": [
  {
   "cell_type": "code",
   "execution_count": 1,
   "metadata": {},
   "outputs": [],
   "source": [
    "## wap to count the number of factors of a given number\n",
    "## wap to find sencond largest factor of a given number\n",
    "## wap to find second  smallest factor of a given number\n",
    "## wap to count all thr prime numbers betwwen 1 to 100\n",
    "## wap to find sum of all prime numbers between 1 to 100\n",
    "## wap to find largestt and smallest prime number between 1 to 100"
   ]
  },
  {
   "cell_type": "code",
   "execution_count": 27,
   "metadata": {},
   "outputs": [
    {
     "name": "stdout",
     "output_type": "stream",
     "text": [
      "1 2 3 4 5 6 8 9 10 12 15 18 20 24 30 36 40 45 60 72 90 120 180 360 "
     ]
    }
   ],
   "source": [
    "## wap to count the number of factors of a given number\n",
    "def factors(x):\n",
    "    count=0\n",
    "    for i in range(1, x + 1):\n",
    "        if x % i == 0:\n",
    "            count=count+1\n",
    "            print(i,end=\" \")\n",
    "num = 360\n",
    "factors(num)"
   ]
  },
  {
   "cell_type": "markdown",
   "metadata": {},
   "source": [
    "### wap to find sencond largest factor of a given number\n",
    "\n",
    "\n",
    "\n",
    "    "
   ]
  },
  {
   "cell_type": "code",
   "execution_count": 14,
   "metadata": {
    "scrolled": false
   },
   "outputs": [
    {
     "name": "stdout",
     "output_type": "stream",
     "text": [
      "Enter a number:-3\n",
      "1\n"
     ]
    }
   ],
   "source": [
    "# read num from user\n",
    "# need to find all factors of a given num\n",
    "#ex:4,1,2\n",
    "#15:-1,3,5,15\n",
    "# finding second largest number\n",
    "\n",
    "\n",
    "def numOfFactors(n):\n",
    "    for i in range(1,n+1):\n",
    "        if n%i==0:\n",
    "            #print(i,end=\",\")\n",
    "            facts.append(i)\n",
    "    return facts\n",
    "\n",
    "facts = []   \n",
    "num=int(input(\"Enter a number:-\"))\n",
    "rs = numOfFactors(num)\n",
    "#print(rs)\n",
    "print(rs[-2])"
   ]
  },
  {
   "cell_type": "markdown",
   "metadata": {},
   "source": [
    "## wap to find second second smallest factor of a given number\n",
    "\n"
   ]
  },
  {
   "cell_type": "code",
   "execution_count": 23,
   "metadata": {},
   "outputs": [
    {
     "name": "stdout",
     "output_type": "stream",
     "text": [
      "Enter a number:-15\n",
      "factors of  agiven number [1, 3, 5, 15]\n",
      "second smallest factor: 3\n",
      "sum of factors is: 24\n",
      "avg of factors is: 6\n"
     ]
    }
   ],
   "source": [
    "\n",
    "def numOfFactors(n):\n",
    "    for i in range(1,n+1):\n",
    "        if n%i==0:\n",
    "            #print(i,end=\",\")\n",
    "            facts.append(i)\n",
    "    return facts\n",
    "\n",
    "facts = []   \n",
    "num=int(input(\"Enter a number:-\"))\n",
    "rs = numOfFactors(num)\n",
    "print(\"factors of  agiven number\",rs)\n",
    "print(\"second smallest factor:\",rs[1])\n",
    "# sum of factors of a given num\n",
    "print (\"sum of factors is:\",sum(rs))\n",
    "print (\"avg of factors is:\",sum(rs)//len(rs))"
   ]
  },
  {
   "cell_type": "code",
   "execution_count": 7,
   "metadata": {},
   "outputs": [
    {
     "name": "stdout",
     "output_type": "stream",
     "text": [
      "  Enter the start Value: 7\n",
      " Enter the end Value: 50\n",
      " 5   7   11   13   17   19   23   29   31   37   41   43   47   53   59   61   67   71   73   79   83   89   97  "
     ]
    }
   ],
   "source": [
    "## wap to count all thr prime numbers betwwen 1 to 100\n",
    "#def is_prime(number):\n",
    " #   count=0 \n",
    "#for i in range(2,number+1): \n",
    "    #if(number%i == 0): \n",
    "    #    count+=1 \n",
    " \n",
    "   # if(count == 2):\n",
    "  #      return True\n",
    "    \n",
    " #   return False \n",
    "#num=int(input())\n",
    "#print(is_prime(num))\n",
    "\n",
    "start_value = int(input(\"  Enter the start Value: \"))\n",
    "end_value = int(input(\" Enter the end Value: \"))\n",
    "\n",
    "for Number in range (minimum, maximum + 1):\n",
    "    count = 0\n",
    "    for i in range(2, (Number//2 + 1)):\n",
    "        if(Number % i == 0):\n",
    "            count = count + 1\n",
    "            break\n",
    "\n",
    "    if (count == 0 and Number != 1):\n",
    "        print(\" %d\" %Number, end = '  ')\n",
    "  \n",
    "\n",
    "    \n"
   ]
  },
  {
   "cell_type": "code",
   "execution_count": 8,
   "metadata": {},
   "outputs": [
    {
     "name": "stdout",
     "output_type": "stream",
     "text": [
      "Find sum of prime numbers upto : 12\n",
      "\n",
      "Sum of all prime numbers upto 12 : 26\n"
     ]
    }
   ],
   "source": [
    "## wap to find sum of all prime numbers between 1 to 100\n",
    "upto = int(input(\"Find sum of prime numbers upto : \"))\n",
    "sum = 0\n",
    "for num in range(2, upto + 1):\n",
    "    i = 2\n",
    "    for i in range(2, num):\n",
    "        if (int(num % i) == 0):\n",
    "            i = num\n",
    "            break;\n",
    "    if i is not num:\n",
    "        sum += num\n",
    "\n",
    "print(\"\\nSum of all prime numbers upto\", upto, \":\", sum)"
   ]
  },
  {
   "cell_type": "code",
   "execution_count": 9,
   "metadata": {},
   "outputs": [
    {
     "name": "stdout",
     "output_type": "stream",
     "text": [
      "  Enter the start Value: 5\n",
      " Enter the end Value: 100\n",
      " 5   7   11   13   17   19   23   29   31   37   41   43   47   53   59   61   67   71   73   79   83   89   97  \n",
      "Enter a  number:-5\n",
      "\n",
      "Enter a  number:-7\n",
      "\n",
      "Enter a  number:-9\n",
      "Maximum element in the list is : 9 \n",
      "Minimum element in the list is : 5\n"
     ]
    }
   ],
   "source": [
    "## wap to find largestt and smallest prime number between 1 to 100\n",
    "\n",
    "start_value = int(input(\"  Enter the start Value: \"))\n",
    "end_value = int(input(\" Enter the end Value: \"))\n",
    "\n",
    "for Number in range (start_value, end_value + 1):\n",
    "    count = 0\n",
    "    for i in range(2, (Number//2 + 1)):\n",
    "        if(Number % i == 0):\n",
    "            count = count + 1\n",
    "            break\n",
    "\n",
    "    if (count == 0 and Number != 1):\n",
    "        print(\" %d\" %Number, end = ' ')\n",
    "\n",
    "\n",
    "\n",
    "lst = []\n",
    "for n in range(num):\n",
    "    numbers = int(input('\\nEnter a  number:-'))\n",
    "    lst.append(numbers)\n",
    "print(\"Maximum element in the list is :\", max(lst), \"\\nMinimum element in the list is :\", min(lst))"
   ]
  },
  {
   "cell_type": "markdown",
   "metadata": {},
   "source": [
    "## wap to find largestt and smallest prime number between 1 to 100"
   ]
  },
  {
   "cell_type": "code",
   "execution_count": 54,
   "metadata": {},
   "outputs": [
    {
     "ename": "SyntaxError",
     "evalue": "unexpected EOF while parsing (<ipython-input-54-d29c24ba516c>, line 30)",
     "output_type": "error",
     "traceback": [
      "\u001b[1;36m  File \u001b[1;32m\"<ipython-input-54-d29c24ba516c>\"\u001b[1;36m, line \u001b[1;32m30\u001b[0m\n\u001b[1;33m    \u001b[0m\n\u001b[1;37m    ^\u001b[0m\n\u001b[1;31mSyntaxError\u001b[0m\u001b[1;31m:\u001b[0m unexpected EOF while parsing\n"
     ]
    }
   ],
   "source": [
    "# need to implement prime number\n",
    "# store alll prime which are comming from prime()\n",
    "# finding largest and smalllest prime number\n",
    "\n",
    "def isPrime(n):\n",
    "    if n==1:\n",
    "        return False\n",
    "    \n",
    "    \n",
    "    for i in range(2,n):\n",
    "        if n%i==0:\n",
    "            return False\n",
    "    return True\n",
    "\n",
    "primes=[]\n",
    "for j in range(1,101):\n",
    "    rs=isPrime(j)\n",
    "    if rs:\n",
    "        #print(j,end=\" \")\n",
    "        primes.append(j)\n",
    "print(primes)\n",
    "#count of primes\n",
    "print(\"count of prime numbers:-\",len(primes))\n",
    "print(\"sum of all prime numbers:-\",sum(primes))\n",
    "print(\"maximum of all prime numbers:-\",( prime[-1])\n",
    "      \n",
    "\n",
    "\n",
    "                                 \n",
    "        "
   ]
  },
  {
   "cell_type": "code",
   "execution_count": null,
   "metadata": {},
   "outputs": [],
   "source": [
    "\n"
   ]
  },
  {
   "cell_type": "code",
   "execution_count": null,
   "metadata": {},
   "outputs": [],
   "source": []
  }
 ],
 "metadata": {
  "kernelspec": {
   "display_name": "Python 3",
   "language": "python",
   "name": "python3"
  },
  "language_info": {
   "codemirror_mode": {
    "name": "ipython",
    "version": 3
   },
   "file_extension": ".py",
   "mimetype": "text/x-python",
   "name": "python",
   "nbconvert_exporter": "python",
   "pygments_lexer": "ipython3",
   "version": "3.7.4"
  }
 },
 "nbformat": 4,
 "nbformat_minor": 4
}

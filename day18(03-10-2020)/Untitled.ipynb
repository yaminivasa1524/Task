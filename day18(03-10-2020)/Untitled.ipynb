{
 "cells": [
  {
   "cell_type": "code",
   "execution_count": 1,
   "metadata": {},
   "outputs": [
    {
     "name": "stdout",
     "output_type": "stream",
     "text": [
      "Enter a number2\n",
      "Enter a number20\n",
      "2 3 5 7 11 13 17 19 "
     ]
    }
   ],
   "source": [
    "# print the in between prime numbers\n",
    "first=int(input(\"Enter a number\"))\n",
    "end=int(input(\"Enter a number\"))\n",
    "for i in range(first,end+1):\n",
    "    if(i>1):\n",
    "        c=0\n",
    "        for j in range(2,i):\n",
    "            if(i%j==0):\n",
    "                c=c+1\n",
    "        if(c==0):\n",
    "            print(i,end=\" \")\n",
    "    else:\n",
    "        print(\"enter stsrting number from 2\")"
   ]
  },
  {
   "cell_type": "code",
   "execution_count": 2,
   "metadata": {},
   "outputs": [],
   "source": [
    "# print the in between amstrong numbers"
   ]
  },
  {
   "cell_type": "code",
   "execution_count": null,
   "metadata": {},
   "outputs": [],
   "source": []
  },
  {
   "cell_type": "code",
   "execution_count": 1,
   "metadata": {
    "scrolled": false
   },
   "outputs": [
    {
     "name": "stdout",
     "output_type": "stream",
     "text": [
      "enter a stringone\n",
      "enter another stringtwo\n",
      "newo\n"
     ]
    }
   ],
   "source": [
    "# given two strings  return their concation \n",
    "\n",
    "s=input('enter a string')\n",
    "s1=input('enter another string')\n",
    "s3=(s[1:]+s1[1:])\n",
    "print(s3)"
   ]
  },
  {
   "cell_type": "code",
   "execution_count": 6,
   "metadata": {},
   "outputs": [],
   "source": [
    "f=open(\"file.txt\",\"w\")\n",
    "data=\"hii hello hii hello everyone\"\n",
    "f.write(data)\n",
    "f.close()"
   ]
  },
  {
   "cell_type": "code",
   "execution_count": 7,
   "metadata": {},
   "outputs": [
    {
     "name": "stdout",
     "output_type": "stream",
     "text": [
      "['hii hello hii hello everyone']\n",
      "['hii', 'hello', 'hii', 'hello', 'everyone']\n",
      "{'hii': 2, 'hello': 2, 'everyone': 1}\n"
     ]
    }
   ],
   "source": [
    "d={}\n",
    "f=open(\"file.txt\",\"r\")\n",
    "data=f.readlines()\n",
    "print(data)\n",
    "for line in data:\n",
    "  words=line.split()\n",
    "  print(words)\n",
    "  for word in words:\n",
    "    if word not in d:\n",
    "      d[word]=1\n",
    "    else:\n",
    "      d[word]+=1\n",
    "print(d)\n",
    "f.close() "
   ]
  },
  {
   "cell_type": "code",
   "execution_count": 2,
   "metadata": {},
   "outputs": [],
   "source": [
    "# range as 3\n",
    "# 10\n",
    "# 20\n",
    "#30\n",
    "# 60"
   ]
  },
  {
   "cell_type": "code",
   "execution_count": 2,
   "metadata": {},
   "outputs": [
    {
     "name": "stdout",
     "output_type": "stream",
     "text": [
      "Enter the data:-30\n",
      "Enter the data:-39\n",
      "Enter the data:-40\n"
     ]
    }
   ],
   "source": [
    "for i in  range(3):\n",
    "    f=open(\"su.txt\",\"a\")\n",
    "    f.write((input(\"Enter the data:-\"))+\"\\n\")\n",
    "    f.close()"
   ]
  },
  {
   "cell_type": "code",
   "execution_count": 3,
   "metadata": {},
   "outputs": [
    {
     "data": {
      "text/plain": [
       "23"
      ]
     },
     "execution_count": 3,
     "metadata": {},
     "output_type": "execute_result"
    }
   ],
   "source": [
    "a=\"23\"\n",
    "int(a)"
   ]
  },
  {
   "cell_type": "code",
   "execution_count": 12,
   "metadata": {},
   "outputs": [
    {
     "name": "stdout",
     "output_type": "stream",
     "text": [
      "['20563632\\n', '23\\n', '40\\n', '30\\n', '39\\n', '40\\n'] line by line\n",
      "20563632\n",
      " number\n",
      "23\n",
      " number\n",
      "40\n",
      " number\n",
      "30\n",
      " number\n",
      "39\n",
      " number\n",
      "40\n",
      " number\n",
      "20563804 total sum\n"
     ]
    }
   ],
   "source": [
    "s=0\n",
    "f=open(\"su.txt\",\"r\")\n",
    "data=f.readlines()\n",
    "print(data,\"line by line\")\n",
    "for ele in data:\n",
    "    print(ele,\"number\")\n",
    "    s=int(ele)+s\n",
    "print(s,\"total sum\")\n",
    "f.close()"
   ]
  },
  {
   "cell_type": "code",
   "execution_count": null,
   "metadata": {},
   "outputs": [],
   "source": []
  }
 ],
 "metadata": {
  "kernelspec": {
   "display_name": "Python 3",
   "language": "python",
   "name": "python3"
  },
  "language_info": {
   "codemirror_mode": {
    "name": "ipython",
    "version": 3
   },
   "file_extension": ".py",
   "mimetype": "text/x-python",
   "name": "python",
   "nbconvert_exporter": "python",
   "pygments_lexer": "ipython3",
   "version": "3.7.4"
  }
 },
 "nbformat": 4,
 "nbformat_minor": 4
}

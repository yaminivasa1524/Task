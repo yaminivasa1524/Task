{
 "cells": [
  {
   "cell_type": "markdown",
   "metadata": {},
   "source": [
    "Input.txt :\n",
    "\n",
    "    2 10\n",
    "    5 15\n",
    "Output.txt :\n",
    "\n",
    "     2 table upto 10 rows\n",
    "    \n",
    "     5 table upto 15 rows\n",
    "\n"
   ]
  },
  {
   "cell_type": "code",
   "execution_count": 4,
   "metadata": {},
   "outputs": [
    {
     "name": "stdout",
     "output_type": "stream",
     "text": [
      "Input a number: 6\n",
      "6 x 1 = 6\n",
      "6 x 2 = 12\n",
      "6 x 3 = 18\n",
      "6 x 4 = 24\n",
      "6 x 5 = 30\n",
      "6 x 6 = 36\n",
      "6 x 7 = 42\n",
      "6 x 8 = 48\n",
      "6 x 9 = 54\n",
      "6 x 10 = 60\n"
     ]
    }
   ],
   "source": [
    "n = int(input(\"Input a number: \"))\n",
    "\n",
    "#### use for loop to iterate 10 times\n",
    "for i in range(1,11):\n",
    "    print(n,'x',i,'=',n*i)"
   ]
  },
  {
   "cell_type": "code",
   "execution_count": 26,
   "metadata": {},
   "outputs": [
    {
     "name": "stdout",
     "output_type": "stream",
     "text": [
      "7\n"
     ]
    }
   ],
   "source": [
    "with open(\"table.txt\",\"w\")as faa:\n",
    "    k=input()\n",
    "    #e=input()\n",
    "    faa.write(k+\"\\n\")\n",
    "    #faa.write(e+\"\\n\")"
   ]
  },
  {
   "cell_type": "code",
   "execution_count": 30,
   "metadata": {
    "scrolled": true
   },
   "outputs": [
    {
     "name": "stdout",
     "output_type": "stream",
     "text": [
      "ENter a number:-6\n",
      "Enter a number:-7\n",
      "6 x 1 = 6     7 x 1 = 7\n",
      "6 x 2 = 12     7 x 2 = 14\n",
      "6 x 3 = 18     7 x 3 = 21\n",
      "6 x 4 = 24     7 x 4 = 28\n",
      "6 x 5 = 30     7 x 5 = 35\n",
      "6 x 6 = 36     7 x 6 = 42\n",
      "6 x 7 = 42     7 x 7 = 49\n",
      "6 x 8 = 48     7 x 8 = 56\n",
      "6 x 9 = 54     7 x 9 = 63\n",
      "6 x 10 = 60     7 x 10 = 70\n"
     ]
    },
    {
     "ename": "TypeError",
     "evalue": "'int' object is not subscriptable",
     "output_type": "error",
     "traceback": [
      "\u001b[1;31m---------------------------------------------------------------------------\u001b[0m",
      "\u001b[1;31mTypeError\u001b[0m                                 Traceback (most recent call last)",
      "\u001b[1;32m<ipython-input-30-6412bdff516c>\u001b[0m in \u001b[0;36m<module>\u001b[1;34m\u001b[0m\n\u001b[0;32m      7\u001b[0m         \u001b[0mprint\u001b[0m\u001b[1;33m(\u001b[0m\u001b[0mn1\u001b[0m\u001b[1;33m,\u001b[0m\u001b[1;34m'x'\u001b[0m\u001b[1;33m,\u001b[0m\u001b[0mk\u001b[0m\u001b[1;33m,\u001b[0m\u001b[1;34m'='\u001b[0m\u001b[1;33m,\u001b[0m\u001b[0mn1\u001b[0m\u001b[1;33m*\u001b[0m\u001b[0mk\u001b[0m\u001b[1;33m)\u001b[0m\u001b[1;33m\u001b[0m\u001b[1;33m\u001b[0m\u001b[0m\n\u001b[0;32m      8\u001b[0m     \u001b[1;32mwith\u001b[0m \u001b[0mopen\u001b[0m\u001b[1;33m(\u001b[0m\u001b[1;34m\"output.txt\"\u001b[0m\u001b[1;33m,\u001b[0m\u001b[1;34m\"a\"\u001b[0m\u001b[1;33m)\u001b[0m\u001b[1;32mas\u001b[0m \u001b[0mfww\u001b[0m\u001b[1;33m:\u001b[0m\u001b[1;33m\u001b[0m\u001b[1;33m\u001b[0m\u001b[0m\n\u001b[1;32m----> 9\u001b[1;33m             \u001b[0ms\u001b[0m \u001b[1;33m=\u001b[0m \u001b[0mint\u001b[0m\u001b[1;33m(\u001b[0m\u001b[0mi\u001b[0m\u001b[1;33m[\u001b[0m\u001b[1;36m0\u001b[0m\u001b[1;33m]\u001b[0m\u001b[1;33m)\u001b[0m\u001b[1;33m*\u001b[0m\u001b[0mint\u001b[0m\u001b[1;33m(\u001b[0m\u001b[0mi\u001b[0m\u001b[1;33m[\u001b[0m\u001b[1;36m1\u001b[0m\u001b[1;33m]\u001b[0m\u001b[1;33m)\u001b[0m\u001b[1;33m\u001b[0m\u001b[1;33m\u001b[0m\u001b[0m\n\u001b[0m\u001b[0;32m     10\u001b[0m             \u001b[0mfww\u001b[0m\u001b[1;33m.\u001b[0m\u001b[0mwrite\u001b[0m\u001b[1;33m(\u001b[0m\u001b[0mstr\u001b[0m\u001b[1;33m(\u001b[0m\u001b[0ms\u001b[0m\u001b[1;33m)\u001b[0m\u001b[1;33m+\u001b[0m\u001b[1;34m\"\"\u001b[0m\u001b[1;33m)\u001b[0m\u001b[1;33m\u001b[0m\u001b[1;33m\u001b[0m\u001b[0m\n\u001b[0;32m     11\u001b[0m \u001b[1;33m\u001b[0m\u001b[0m\n",
      "\u001b[1;31mTypeError\u001b[0m: 'int' object is not subscriptable"
     ]
    }
   ],
   "source": [
    "with open(\"table.txt\",\"r\")as frr:\n",
    "    p=frr.readlines()\n",
    "    n=int(input(\"ENter a number:-\"))\n",
    "    n1=int(input(\"Enter a number:-\"))\n",
    "    for k in range(1,11):\n",
    "        print(n,'x',k,'=',n*k, end=\"     \")\n",
    "        print(n1,'x',k,'=',n1*k)\n",
    "    with open(\"output.txt\",\"w\")as fww:\n",
    "            s = int(i[0])*int(i[1])\n",
    "            fww.write(str(s)+\"\")\n",
    "            \n",
    "p=int(input())\n"
   ]
  },
  {
   "cell_type": "code",
   "execution_count": 52,
   "metadata": {},
   "outputs": [
    {
     "name": "stdout",
     "output_type": "stream",
     "text": [
      "2\n",
      "5\n"
     ]
    }
   ],
   "source": [
    "with open(\"table.txt\",\"w\")as faa:\n",
    "    k=input()\n",
    "    e=input()\n",
    "    faa.write(k+\"\\n\")\n",
    "    faa.write(e+\"\\n\")"
   ]
  },
  {
   "cell_type": "code",
   "execution_count": 73,
   "metadata": {},
   "outputs": [
    {
     "name": "stdout",
     "output_type": "stream",
     "text": [
      "5 x 1 = 5\n",
      "2 x 1 = 2\n",
      "5 x 2 = 55\n",
      "2 x 2 = 22\n",
      "5 x 3 = 555\n",
      "2 x 3 = 222\n",
      "5 x 4 = 5555\n",
      "2 x 4 = 2222\n",
      "5 x 5 = 55555\n",
      "2 x 5 = 22222\n",
      "5 x 6 = 555555\n",
      "2 x 6 = 222222\n",
      "5 x 7 = 5555555\n",
      "2 x 7 = 2222222\n",
      "5 x 8 = 55555555\n",
      "2 x 8 = 22222222\n",
      "5 x 9 = 555555555\n",
      "2 x 9 = 222222222\n",
      "5 x 10 = 5555555555\n",
      "2 x 10 = 2222222222\n",
      "5 x 1 = 5\n",
      "2 x 1 = 2\n",
      "5 x 2 = 55\n",
      "2 x 2 = 22\n",
      "5 x 3 = 555\n",
      "2 x 3 = 222\n",
      "5 x 4 = 5555\n",
      "2 x 4 = 2222\n",
      "5 x 5 = 55555\n",
      "2 x 5 = 22222\n",
      "5 x 6 = 555555\n",
      "2 x 6 = 222222\n",
      "5 x 7 = 5555555\n",
      "2 x 7 = 2222222\n",
      "5 x 8 = 55555555\n",
      "2 x 8 = 22222222\n",
      "5 x 9 = 555555555\n",
      "2 x 9 = 222222222\n",
      "5 x 10 = 5555555555\n",
      "2 x 10 = 2222222222\n"
     ]
    }
   ],
   "source": [
    "with open(\"table.txt\",\"r\")as frr:\n",
    "    p=frr.readlines()\n",
    "    for i in p:\n",
    "        mn = i.split(\"\\n\")[0]\n",
    "        j = mn.split()\n",
    "        for k1 in range(1,11):\n",
    "            with open(\"output.txt\",\"a\")as fww:\n",
    "                s= print(e,'x',k1,'=',e*k1,)\n",
    "                y=print(k,'x',k1,'=',k*k1)\n",
    "                # s = int(j[0])*int(j[1])\n",
    "  #          print(s)\n",
    "                fww.write(str(s)+\"\\n\")\n",
    "    \n",
    "                fww.write(str(y)+\"\\n\")"
   ]
  },
  {
   "cell_type": "code",
   "execution_count": null,
   "metadata": {},
   "outputs": [],
   "source": []
  },
  {
   "cell_type": "code",
   "execution_count": null,
   "metadata": {},
   "outputs": [],
   "source": []
  }
 ],
 "metadata": {
  "kernelspec": {
   "display_name": "Python 3",
   "language": "python",
   "name": "python3"
  },
  "language_info": {
   "codemirror_mode": {
    "name": "ipython",
    "version": 3
   },
   "file_extension": ".py",
   "mimetype": "text/x-python",
   "name": "python",
   "nbconvert_exporter": "python",
   "pygments_lexer": "ipython3",
   "version": "3.7.4"
  }
 },
 "nbformat": 4,
 "nbformat_minor": 4
}

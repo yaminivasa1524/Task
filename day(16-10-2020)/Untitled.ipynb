{
 "cells": [
  {
   "cell_type": "markdown",
   "metadata": {},
   "source": [
    "### file handling\n",
    " - what is a file\n",
    " - what is file handling\n",
    " - file methods \n",
    " - different modes\n",
    " - use of with stmt\n",
    " - file :\n",
    "         - file is saved in some locations on local system to store some information\n",
    "- ex:-\n",
    "     - txt,.jpg,.html,.ipyb,.png,.pdf\n",
    "- file handling :\n",
    "   - create ,reading, update,delete\n",
    "   - create\n",
    "   - open \n",
    "   - working\n",
    "   - close\n",
    "- File methods\n",
    "  - open()\n",
    "       - syntax : file_obj=open(\"filename\",mode\")\n",
    "   - read()\n",
    "        - syntax : file_obj.read(size)\n",
    "   - write()\n",
    "        - syntax : file_obj.write(data)\n",
    "   - close()\n",
    "        - synatax : file_obj.close()\n",
    "   - readlines()\n",
    "        - syntax : file_obj.readlines()\n",
    "        \n",
    "\n",
    "- Different Modes:\n",
    "    - open(\"filename\",'modes')\n",
    "    - open(\"filename\",\"r\")\n",
    "    - open(\"filename\",\"w\")\n",
    "    - open(\"filename\",\"a\")\n",
    "    - open(\"filename\",\"r+\")\n",
    "    - open(\"filename\",\"w+\")\n",
    "    \n",
    "    \n",
    "         "
   ]
  },
  {
   "cell_type": "code",
   "execution_count": 2,
   "metadata": {
    "scrolled": true
   },
   "outputs": [
    {
     "name": "stdout",
     "output_type": "stream",
     "text": [
      "done\n"
     ]
    }
   ],
   "source": [
    "# craeting a file \n",
    "f = open(\"file.txt\",\"w\")\n",
    "data = \"Welcome to python internship program\"\n",
    "f.write(data)\n",
    "print(\"done\")\n",
    "f.close()"
   ]
  },
  {
   "cell_type": "code",
   "execution_count": 8,
   "metadata": {},
   "outputs": [
    {
     "name": "stdout",
     "output_type": "stream",
     "text": [
      "Welcome to python internship program\n"
     ]
    }
   ],
   "source": [
    "# Reading the data\n",
    "\n",
    "file=open(\"file.txt\",\"r\")\n",
    "data1=file.read()\n",
    "print(data1)\n",
    "file.close()"
   ]
  },
  {
   "cell_type": "code",
   "execution_count": 32,
   "metadata": {},
   "outputs": [
    {
     "name": "stdout",
     "output_type": "stream",
     "text": [
      "completed\n"
     ]
    }
   ],
   "source": [
    "file = open(\"file.txt\",\"a\")\n",
    "data2 = \"django\"\n",
    "file.write(\"/n \"+\"hello everyone\")\n",
    "print(\"completed\")\n",
    "file.close()"
   ]
  },
  {
   "cell_type": "code",
   "execution_count": 36,
   "metadata": {},
   "outputs": [
    {
     "name": "stdout",
     "output_type": "stream",
     "text": [
      "Welcome to python internship program/nhello everyone/n hello everyone\n"
     ]
    }
   ],
   "source": [
    "with open(\"file.txt\",\"r\")as file:\n",
    "    data = file.read()\n",
    "    print(data)"
   ]
  },
  {
   "cell_type": "code",
   "execution_count": 13,
   "metadata": {},
   "outputs": [
    {
     "name": "stdout",
     "output_type": "stream",
     "text": [
      "Enter somedataApssdc is conducting online workshops\n",
      "completed....................\n"
     ]
    }
   ],
   "source": [
    "file = open(\"file2.txt\",\"w\")\n",
    "file.write(input(\"Enter somedata\"))\n",
    "print(\"completed\"+(\".\"*20))"
   ]
  },
  {
   "cell_type": "code",
   "execution_count": 15,
   "metadata": {},
   "outputs": [],
   "source": [
    "\n",
    "# replace with \\\\\n",
    "# \\ replace with /\n",
    "# r-> rawpath or rawlocation,r\"D:\\\"\"\n",
    " "
   ]
  },
  {
   "cell_type": "code",
   "execution_count": 19,
   "metadata": {
    "scrolled": true
   },
   "outputs": [
    {
     "ename": "SyntaxError",
     "evalue": "(unicode error) 'unicodeescape' codec can't decode bytes in position 2-3: truncated \\UXXXXXXXX escape (<ipython-input-19-65c4a3fec354>, line 1)",
     "output_type": "error",
     "traceback": [
      "\u001b[1;36m  File \u001b[1;32m\"<ipython-input-19-65c4a3fec354>\"\u001b[1;36m, line \u001b[1;32m1\u001b[0m\n\u001b[1;33m    f = open(\"C:\\Users\\Durga\\Documents.txt\",\"r\")\u001b[0m\n\u001b[1;37m            ^\u001b[0m\n\u001b[1;31mSyntaxError\u001b[0m\u001b[1;31m:\u001b[0m (unicode error) 'unicodeescape' codec can't decode bytes in position 2-3: truncated \\UXXXXXXXX escape\n"
     ]
    }
   ],
   "source": [
    "f = open(\"C:\\Users\\Durga\\Documents.txt\",\"r\")\n",
    "d = f.read()\n",
    "print(d)\n",
    "f.close()"
   ]
  },
  {
   "cell_type": "markdown",
   "metadata": {},
   "source": [
    "- File objective methods\n",
    "   - seek()\n",
    "      - used to change the cursor position\n",
    "   - tell()\n",
    "       - used to know the cursor position"
   ]
  },
  {
   "cell_type": "code",
   "execution_count": 26,
   "metadata": {
    "scrolled": true
   },
   "outputs": [
    {
     "name": "stdout",
     "output_type": "stream",
     "text": [
      "11\n",
      "Welcome to \n",
      "20\n"
     ]
    }
   ],
   "source": [
    "f=open(\"file.txt\",\"r\")\n",
    "data= f.read(11)\n",
    "print(f.tell())\n",
    "print(data)\n",
    "f.seek(20)\n",
    "print(f.tell())\n",
    "f.close()"
   ]
  },
  {
   "cell_type": "markdown",
   "metadata": {},
   "source": [
    "- Task:\n",
    "    - Read the data in reverse order"
   ]
  },
  {
   "cell_type": "code",
   "execution_count": 53,
   "metadata": {},
   "outputs": [
    {
     "name": "stdout",
     "output_type": "stream",
     "text": [
      "margorp pihsnretni nohtyp ot emocleW\n"
     ]
    }
   ],
   "source": [
    "f = open(\"file.txt\",\"w\")\n",
    "data = \"Welcome to python internship program\"\n",
    "f.write(data)\n",
    "f.close()\n",
    "\n",
    "with open(\"file.txt\",\"r\")as file:\n",
    "    data=file.read()\n",
    "    print(data[::-1])"
   ]
  },
  {
   "cell_type": "code",
   "execution_count": 47,
   "metadata": {},
   "outputs": [
    {
     "data": {
      "text/plain": [
       "'gnirts'"
      ]
     },
     "execution_count": 47,
     "metadata": {},
     "output_type": "execute_result"
    }
   ],
   "source": [
    "a=\"string\"\n",
    "a[::-1]"
   ]
  },
  {
   "cell_type": "code",
   "execution_count": 54,
   "metadata": {},
   "outputs": [
    {
     "name": "stdout",
     "output_type": "stream",
     "text": [
      "['Welcome to python internship program']\n"
     ]
    }
   ],
   "source": [
    "with open(\"file.txt\",\"r\")as file:\n",
    "    data=file.readlines()\n",
    "    print(data)"
   ]
  },
  {
   "cell_type": "code",
   "execution_count": 55,
   "metadata": {},
   "outputs": [
    {
     "name": "stdout",
     "output_type": "stream",
     "text": [
      "Welcome to python internship program\n"
     ]
    }
   ],
   "source": [
    "with open(\"file.txt\",\"r\")as file:\n",
    "    data=file.readlines()\n",
    "    for i in data:\n",
    "        print(i)\n",
    "    "
   ]
  },
  {
   "cell_type": "code",
   "execution_count": 56,
   "metadata": {
    "scrolled": true
   },
   "outputs": [
    {
     "name": "stdout",
     "output_type": "stream",
     "text": [
      "['Welcome to python internship program']\n",
      "['Welcome', 'to', 'python', 'internship', 'program']\n",
      "5\n"
     ]
    }
   ],
   "source": [
    "# split the data and find how many wordss are present in each line\n",
    "with open (\"file.txt\",\"r\")as file:\n",
    "    data = file.readlines()\n",
    "    print(data)\n",
    "    for lines in data:\n",
    "        words=lines.split(\" \")\n",
    "        print(words)\n",
    "        print(len(words))"
   ]
  },
  {
   "cell_type": "code",
   "execution_count": 57,
   "metadata": {},
   "outputs": [
    {
     "name": "stdout",
     "output_type": "stream",
     "text": [
      "W\n",
      "e\n",
      "l\n",
      "c\n",
      "o\n",
      "m\n",
      "e\n",
      " \n",
      "t\n",
      "o\n",
      " \n",
      "p\n",
      "y\n",
      "t\n",
      "h\n",
      "o\n",
      "n\n",
      " \n",
      "i\n",
      "n\n",
      "t\n",
      "e\n",
      "r\n",
      "n\n",
      "s\n",
      "h\n",
      "i\n",
      "p\n",
      " \n",
      "p\n",
      "r\n",
      "o\n",
      "g\n",
      "r\n",
      "a\n",
      "m\n"
     ]
    }
   ],
   "source": [
    "with open (\"file.txt\",\"r\")as file:\n",
    "    data=file.read()\n",
    "    for ele in data:\n",
    "        print(ele)"
   ]
  },
  {
   "cell_type": "code",
   "execution_count": 62,
   "metadata": {},
   "outputs": [
    {
     "name": "stdout",
     "output_type": "stream",
     "text": [
      "['Welcome to python internship program']\n",
      "Welcome ----> 7\n",
      "to ----> 2\n",
      "python ----> 6\n",
      "internship ----> 10\n",
      "program ----> 7\n"
     ]
    }
   ],
   "source": [
    "# find the length of each word and also print the word\n",
    "with open (\"file.txt\",\"r\")as file:\n",
    "    data = file.readlines()\n",
    "    print(data)\n",
    "    for lines in data:\n",
    "        words=lines.split(\" \")\n",
    "        #print(words)\n",
    "        #print(len(words))\n",
    "        for ele in words:\n",
    "            print(ele,\"---->\",len(ele))"
   ]
  },
  {
   "cell_type": "code",
   "execution_count": 66,
   "metadata": {},
   "outputs": [
    {
     "data": {
      "text/plain": [
       "{'hii': 2, '  hello': 1, ' hello': 1, ' everyone': 1}"
      ]
     },
     "execution_count": 66,
     "metadata": {},
     "output_type": "execute_result"
    }
   ],
   "source": [
    "# find out the frequency of each word\n",
    "#ex:-\"hii  hello hii hello everyone\"\n",
    "#d={\"hii\":2,\"hello\":2,\"everyone\":1}\n",
    "a=[\"hii\",\"  hello\", \"hii\",\" hello\",\" everyone\"]\n",
    "\n",
    "d={}\n",
    "for i in a:\n",
    "    d[i]=a.count(i)\n",
    "d"
   ]
  },
  {
   "cell_type": "code",
   "execution_count": null,
   "metadata": {},
   "outputs": [],
   "source": []
  }
 ],
 "metadata": {
  "kernelspec": {
   "display_name": "Python 3",
   "language": "python",
   "name": "python3"
  },
  "language_info": {
   "codemirror_mode": {
    "name": "ipython",
    "version": 3
   },
   "file_extension": ".py",
   "mimetype": "text/x-python",
   "name": "python",
   "nbconvert_exporter": "python",
   "pygments_lexer": "ipython3",
   "version": "3.7.4"
  }
 },
 "nbformat": 4,
 "nbformat_minor": 4
}

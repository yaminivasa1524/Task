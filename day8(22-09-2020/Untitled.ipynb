{
 "cells": [
  {
   "cell_type": "markdown",
   "metadata": {},
   "source": [
    "- To check wheather given number is positive number or negative number?\n",
    "   - first u have to read a number from user\n",
    "   - then write logic to check that number is positive or not\n",
    "- To check wheather given number is even or not?"
   ]
  },
  {
   "cell_type": "code",
   "execution_count": 1,
   "metadata": {},
   "outputs": [
    {
     "name": "stdout",
     "output_type": "stream",
     "text": [
      "Enter a number: 10\n",
      "Positive number\n"
     ]
    }
   ],
   "source": [
    "\n",
    "num = float(input(\"Enter a number: \"))\n",
    "if (num>=0):\n",
    "   print(\"Positive number\")\n",
    "else:\n",
    "   print(\"Negative number\")"
   ]
  },
  {
   "cell_type": "code",
   "execution_count": 14,
   "metadata": {},
   "outputs": [
    {
     "name": "stdout",
     "output_type": "stream",
     "text": [
      "3\n",
      "odd number\n"
     ]
    }
   ],
   "source": [
    "n=int(input())\n",
    "if n%2==0:\n",
    "    print(\"even number\")\n",
    "else:\n",
    "    print(\"odd number\")"
   ]
  },
  {
   "cell_type": "code",
   "execution_count": 10,
   "metadata": {},
   "outputs": [
    {
     "name": "stdout",
     "output_type": "stream",
     "text": [
      "enter a leap year:2020\n",
      "leap year\n"
     ]
    }
   ],
   "source": [
    "num= int(input(\"enter a leap year:\"))\n",
    "def leapyear(num):\n",
    "    if(num%4==0):\n",
    "        print(\"leap year\")\n",
    "    else:\n",
    "        print(\"not leap  year\")\n",
    "leapyear(num)"
   ]
  },
  {
   "cell_type": "code",
   "execution_count": 7,
   "metadata": {
    "scrolled": false
   },
   "outputs": [
    {
     "name": "stdout",
     "output_type": "stream",
     "text": [
      "enter any char\n",
      "w\n",
      "not a vowel\n"
     ]
    }
   ],
   "source": [
    "\n",
    "\n",
    "user=input(\"enter any char\\n\")\n",
    "def check(user):\n",
    "    if user==\"a\" or user==\"e\" or user==\"i\" or user==\"o\" or user==\"u\":\n",
    "        print(\"it's vowel\")\n",
    "    else:\n",
    "        print(\"not a vowel\")\n",
    "(check(user))"
   ]
  }
 ],
 "metadata": {
  "kernelspec": {
   "display_name": "Python 3",
   "language": "python",
   "name": "python3"
  },
  "language_info": {
   "codemirror_mode": {
    "name": "ipython",
    "version": 3
   },
   "file_extension": ".py",
   "mimetype": "text/x-python",
   "name": "python",
   "nbconvert_exporter": "python",
   "pygments_lexer": "ipython3",
   "version": "3.7.4"
  }
 },
 "nbformat": 4,
 "nbformat_minor": 4
}

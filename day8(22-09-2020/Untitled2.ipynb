{
 "cells": [
  {
   "cell_type": "code",
   "execution_count": 14,
   "metadata": {},
   "outputs": [
    {
     "name": "stdout",
     "output_type": "stream",
     "text": [
      "Enter a year:1993\n",
      "False\n"
     ]
    }
   ],
   "source": [
    "# To check wheather given year is leap year or not?\n",
    "def isLeapYear(num):\n",
    "    if(num%4==0):\n",
    "        return True\n",
    "    else:\n",
    "        return False\n",
    "        \n",
    "        \n",
    "num = int(input(\"Enter a year:\"))\n",
    "y = isLeapYear(num)\n",
    "print(y)"
   ]
  },
  {
   "cell_type": "code",
   "execution_count": 16,
   "metadata": {},
   "outputs": [
    {
     "name": "stdout",
     "output_type": "stream",
     "text": [
      "r\n",
      "False\n"
     ]
    }
   ],
   "source": [
    "# To check wheather given character is vowel or consonant?\n",
    "# Static\n",
    "y=['a','e','i','o','u','A','E','I','O','U']\n",
    "def isVowel(ch):\n",
    "    if ch in y:\n",
    "        return True\n",
    "    else:\n",
    "        return False\n",
    "ch = input()\n",
    "print(isVowel(ch))\n",
    "   "
   ]
  },
  {
   "cell_type": "code",
   "execution_count": 23,
   "metadata": {},
   "outputs": [
    {
     "name": "stdout",
     "output_type": "stream",
     "text": [
      "Enter a value:90\n",
      "Enter b value:76\n",
      "False\n"
     ]
    }
   ],
   "source": [
    " # To check wheather given two values are eqaul or not?\n",
    "def isEqualORNot(a,b):\n",
    "    if a==b :\n",
    "        return True\n",
    "    else:\n",
    "        return False\n",
    "    \n",
    "a=int(input(\"Enter a value:\"))\n",
    "b=int(input(\"Enter b value:\"))\n",
    "print(isEqualORNot(a,b))\n"
   ]
  },
  {
   "cell_type": "code",
   "execution_count": 27,
   "metadata": {},
   "outputs": [
    {
     "name": "stdout",
     "output_type": "stream",
     "text": [
      "Enter a value:10\n",
      "Enter b value:10\n",
      "False\n"
     ]
    }
   ],
   "source": [
    "# To find biggest of two numbers?\n",
    "def isBiggestOfTwo(a,b):\n",
    "    if a>b:\n",
    "        return True\n",
    "    else:\n",
    "        return False\n",
    "        \n",
    "a=int(input(\"Enter a value:\"))\n",
    "b=int(input(\"Enter b value:\"))\n",
    "print(isBiggestOfTwo(a,b))"
   ]
  },
  {
   "cell_type": "code",
   "execution_count": 36,
   "metadata": {},
   "outputs": [
    {
     "name": "stdout",
     "output_type": "stream",
     "text": [
      "Enter a value:30\n",
      "Enter b value:100\n",
      "Enter c value:60\n",
      "b is big\n",
      "None\n"
     ]
    }
   ],
   "source": [
    "# To find the biggest of three numbers?\n",
    "def isBiggestOfThree(a,b,c):\n",
    "    if a>b or a>c :\n",
    "        print(\"a is big\")\n",
    "    elif b>c or b>c :\n",
    "        print(\"b is big\")\n",
    "    else:\n",
    "        print(\"c is big\")\n",
    "        \n",
    "a=int(input(\"Enter a value:\"))\n",
    "b=int(input(\"Enter b value:\"))\n",
    "c=int(input(\"Enter c value:\"))\n",
    "print(isBiggestOfThree(a,b,c))"
   ]
  },
  {
   "cell_type": "code",
   "execution_count": 38,
   "metadata": {},
   "outputs": [
    {
     "name": "stdout",
     "output_type": "stream",
     "text": [
      "Enter a value:10\n",
      "Enter b value:20\n",
      "Enter c value:30\n",
      "10 20 30\n",
      "None\n"
     ]
    }
   ],
   "source": [
    "# To find the biggest of three numbers?\n",
    "def isBiggestOfThree(a,b,c):\n",
    "    if(max(a,b,c)):\n",
    "        print(a,b,c)\n",
    "    \n",
    "    \n",
    "a=int(input(\"Enter a value:\"))\n",
    "b=int(input(\"Enter b value:\"))\n",
    "c=int(input(\"Enter c value:\"))\n",
    "print(isBiggestOfThree(a,b,c))\n"
   ]
  },
  {
   "cell_type": "code",
   "execution_count": 19,
   "metadata": {},
   "outputs": [
    {
     "name": "stdout",
     "output_type": "stream",
     "text": [
      "Enter a number:90\n",
      "A\n"
     ]
    }
   ],
   "source": [
    "# To calculate the student grading system?\n",
    "\n",
    "def studentGrade(final_score) :\n",
    "\n",
    "    if 90 <= final_score <= 100:\n",
    "        grade = 'A'\n",
    "    elif 80 <= final_score <= 89:\n",
    "        grade = 'B'\n",
    "    elif 70 <= final_score <= 79:\n",
    "        grade = 'C'\n",
    "    elif 60 <= final_score <= 69:\n",
    "        grade = 'D'\n",
    "    else:\n",
    "        grade = 'F'\n",
    "    return grade\n",
    "\n",
    "\n",
    "num=int(input(\"Enter a number:\"))\n",
    "print(studentGrade(num))"
   ]
  },
  {
   "cell_type": "code",
   "execution_count": 1,
   "metadata": {},
   "outputs": [
    {
     "name": "stdout",
     "output_type": "stream",
     "text": [
      "Enter a number:10\n",
      "10 9 8 7 6 5 4 3 2 1 0 None\n"
     ]
    }
   ],
   "source": [
    "# To print the 1 to n natural numbers in increment order?\n",
    "def nNaturalNumbers(n):\n",
    "    for i in range(n,-1,-1):\n",
    "        print(i, end=\" \")\n",
    "n=int(input(\"Enter a number:\"))\n",
    "print(nNaturalNumbers(n))"
   ]
  },
  {
   "cell_type": "code",
   "execution_count": 2,
   "metadata": {},
   "outputs": [
    {
     "name": "stdout",
     "output_type": "stream",
     "text": [
      "Enter a number:10\n",
      "1 2 3 4 5 6 7 8 9 10 None\n"
     ]
    }
   ],
   "source": [
    "# To print the 1 to n natural numbers in decrement order?\n",
    "def nNaturalNumbers(n):\n",
    "    for i in range(1,n+1,):\n",
    "        print(i, end=\" \")\n",
    "        i+=1\n",
    "n=int(input(\"Enter a number:\"))\n",
    "print(nNaturalNumbers(n))"
   ]
  },
  {
   "cell_type": "code",
   "execution_count": 3,
   "metadata": {},
   "outputs": [
    {
     "name": "stdout",
     "output_type": "stream",
     "text": [
      "Enter a number:5\n",
      "15 is a sum\n"
     ]
    }
   ],
   "source": [
    " # To print the sum of 1 to n natural numbers?\n",
    "def sumOfNNaturalNums(n):\n",
    "    sm = 0\n",
    "    for i in range(1,n+1):\n",
    "        sm += i\n",
    "    return sm\n",
    "    \n",
    "num = int(input(\"Enter a number:\"))\n",
    "rs = sumOfNNaturalNums(num)\n",
    "print(rs,\"is a sum\")"
   ]
  },
  {
   "cell_type": "code",
   "execution_count": 13,
   "metadata": {},
   "outputs": [
    {
     "name": "stdout",
     "output_type": "stream",
     "text": [
      "Enter a number:10\n",
      "2 4 6 8 10 None\n"
     ]
    }
   ],
   "source": [
    "# To print the even numbers between 1 to n natural numbers?\n",
    "def evenNumbers(n):\n",
    "    for i in range(2,n+1):\n",
    "        if(i%2==0):\n",
    "             print(i,end=\" \")\n",
    "        \n",
    "        \n",
    "n=int(input(\"Enter a number:\"))\n",
    "print(evenNumbers(n))\n"
   ]
  },
  {
   "cell_type": "code",
   "execution_count": 2,
   "metadata": {},
   "outputs": [
    {
     "name": "stdout",
     "output_type": "stream",
     "text": [
      "Enter a number:10\n",
      "1 3 5 7 9 None\n"
     ]
    }
   ],
   "source": [
    "# To print the odd numbers between 1 to n natural numbers?\n",
    "def oddNumbers(n):\n",
    "    for i in range(1,n+1):\n",
    "        if(i%2!=0):\n",
    "             print(i,end=\" \")\n",
    "        \n",
    "        \n",
    "n=int(input(\"Enter a number:\"))\n",
    "print(oddNumbers(n))\n"
   ]
  },
  {
   "cell_type": "code",
   "execution_count": 22,
   "metadata": {},
   "outputs": [
    {
     "name": "stdout",
     "output_type": "stream",
     "text": [
      "Enter a Number:10\n",
      "30\n"
     ]
    }
   ],
   "source": [
    "# To print the sum of even natural numbers?\n",
    "\n",
    "num = int(input(\"Enter a Number:\"))\n",
    "total = 0\n",
    "for i in range(1, num + 1):\n",
    "    if((i % 2) == 0):\n",
    "        total = total + i\n",
    "\n",
    "print( total)"
   ]
  },
  {
   "cell_type": "code",
   "execution_count": 20,
   "metadata": {},
   "outputs": [
    {
     "name": "stdout",
     "output_type": "stream",
     "text": [
      "Enter a Number:5\n",
      "9\n"
     ]
    }
   ],
   "source": [
    "# To print the sum of odd natural numbers\n",
    "num = int(input(\"Enter a Number:\"))\n",
    "total = 0\n",
    "\n",
    "for i in range(1, num + 2):\n",
    "    if((i % 2) != 0):\n",
    "        total = total + i\n",
    "\n",
    "print( total)"
   ]
  },
  {
   "cell_type": "code",
   "execution_count": null,
   "metadata": {},
   "outputs": [],
   "source": []
  }
 ],
 "metadata": {
  "kernelspec": {
   "display_name": "Python 3",
   "language": "python",
   "name": "python3"
  },
  "language_info": {
   "codemirror_mode": {
    "name": "ipython",
    "version": 3
   },
   "file_extension": ".py",
   "mimetype": "text/x-python",
   "name": "python",
   "nbconvert_exporter": "python",
   "pygments_lexer": "ipython3",
   "version": "3.7.4"
  }
 },
 "nbformat": 4,
 "nbformat_minor": 4
}

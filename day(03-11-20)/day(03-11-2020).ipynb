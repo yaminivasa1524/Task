{
 "cells": [
  {
   "cell_type": "markdown",
   "metadata": {},
   "source": [
    "#Files:\n",
    "  - to store the data permanently\n",
    "  - .txt,  .doc,  .csv,  .py,  .java,  .c \n",
    "  - open(),close()\n",
    "  - with [doesnot have to close  afile]\n",
    "  - filepath,mode\n",
    "  - mode :\n",
    "      - r -->read(file doesn't exit in location it shows an error)\n",
    "      -w -->write(file doesn't exit in location it automatically creates a file. it performs an action.it remves the previous dataand it appends the present data)\n",
    "      -a -->append(file doesn't exist in location it automatically creates a file . It performs an action .It doesn't remove the previous data)\n",
    "      -x -->create (It creatre a file in a location. If it exists with a name it doesn't create a file with same name)\n",
    "         "
   ]
  },
  {
   "cell_type": "code",
   "execution_count": 2,
   "metadata": {},
   "outputs": [
    {
     "name": "stdout",
     "output_type": "stream",
     "text": [
      "python\n"
     ]
    }
   ],
   "source": [
    "k=\"python\"\n",
    "print(k)"
   ]
  },
  {
   "cell_type": "code",
   "execution_count": 1,
   "metadata": {},
   "outputs": [
    {
     "data": {
      "text/plain": [
       "'filename: test-1.txt\\nInput:\\nTest Case-1:\\n    1 2\\n    3\\nTest Case-2:\\n    4 5\\n    9\\nYour Output:Output.txt\\n    3\\n    9'"
      ]
     },
     "execution_count": 1,
     "metadata": {},
     "output_type": "execute_result"
    }
   ],
   "source": [
    "filename: test-1.txt\n",
    "Input:\n",
    "Test Case-1:\n",
    "    1 2\n",
    "    3\n",
    "Test Case-2:\n",
    "    4 5\n",
    "    9\n",
    "Your Output:Output.txt\n",
    "    3\n",
    "    9"
   ]
  },
  {
   "cell_type": "code",
   "execution_count": 8,
   "metadata": {},
   "outputs": [],
   "source": [
    "with open(\"sample.txt\",\"w\") as fw:\n",
    "    fw.write(\"welcome to apssdc internship\")"
   ]
  },
  {
   "cell_type": "code",
   "execution_count": 12,
   "metadata": {},
   "outputs": [],
   "source": [
    "with open(\"inn.txt\",\"x\")as fx:\n",
    "    fx.write(\"\\nsample\")"
   ]
  },
  {
   "cell_type": "code",
   "execution_count": 2,
   "metadata": {},
   "outputs": [
    {
     "name": "stdout",
     "output_type": "stream",
     "text": [
      "6 4\n"
     ]
    }
   ],
   "source": [
    "#dynamic\n",
    "with open(\"input.txt\",\"a\")as faa:\n",
    "    k=input()\n",
    "    faa.write(k+\"\\n\")\n",
    "    "
   ]
  },
  {
   "cell_type": "code",
   "execution_count": 1,
   "metadata": {},
   "outputs": [],
   "source": [
    "with open(\"input.txt\",\"r\")as frr:\n",
    "    p=frr.readlines()\n",
    "    for i in p:\n",
    "        mn = i.split(\"\\n\")[0]\n",
    "        j = mn.split()\n",
    "        with open(\"output.txt\",\"a\")as fww:\n",
    "            s = int(j[0])+int(j[1])\n",
    "  #          print(s)\n",
    "            fww.write(str(s)+\"\\n\")\n",
    "            "
   ]
  },
  {
   "cell_type": "code",
   "execution_count": 9,
   "metadata": {},
   "outputs": [
    {
     "name": "stdout",
     "output_type": "stream",
     "text": [
      "1234\n",
      "1234\n"
     ]
    }
   ],
   "source": [
    "e=input()\n",
    "print(e)"
   ]
  },
  {
   "cell_type": "code",
   "execution_count": null,
   "metadata": {},
   "outputs": [],
   "source": [
    "r=input()\n",
    "for i in range(int(r)):\n",
    "    print(i)"
   ]
  },
  {
   "cell_type": "code",
   "execution_count": null,
   "metadata": {},
   "outputs": [],
   "source": [
    "123"
   ]
  }
 ],
 "metadata": {
  "kernelspec": {
   "display_name": "Python 3",
   "language": "python",
   "name": "python3"
  },
  "language_info": {
   "codemirror_mode": {
    "name": "ipython",
    "version": 3
   },
   "file_extension": ".py",
   "mimetype": "text/x-python",
   "name": "python",
   "nbconvert_exporter": "python",
   "pygments_lexer": "ipython3",
   "version": "3.7.4"
  }
 },
 "nbformat": 4,
 "nbformat_minor": 4
}

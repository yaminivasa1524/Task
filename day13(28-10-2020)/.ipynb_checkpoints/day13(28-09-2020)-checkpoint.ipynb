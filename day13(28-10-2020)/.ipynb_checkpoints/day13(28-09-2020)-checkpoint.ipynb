{
 "cells": [
  {
   "cell_type": "code",
   "execution_count": 2,
   "metadata": {},
   "outputs": [
    {
     "name": "stdout",
     "output_type": "stream",
     "text": [
      "Enter a range3\n",
      "Enter a value2\n",
      "Enter a value9\n",
      "Enter a value8\n",
      "[2, 9, 8]\n"
     ]
    }
   ],
   "source": [
    "# Dynamic list creation\n",
    "#li=[] or li=list()\n",
    "#input:Enter a range:5\n",
    "#{,1,2,3,4,5,7}\n",
    "\n",
    "\n",
    "\n",
    "li=[]\n",
    "n=int(input(\"Enter a range\"))\n",
    "for i in range(n):\n",
    "    val =int(input(\"Enter a value\"))\n",
    "    li.append(val)\n",
    "\n",
    "print(li)"
   ]
  },
  {
   "cell_type": "code",
   "execution_count": 5,
   "metadata": {},
   "outputs": [
    {
     "name": "stdout",
     "output_type": "stream",
     "text": [
      "[34, 456, 232, 12, 44]\n",
      "778\n"
     ]
    }
   ],
   "source": [
    "li={12,34,44,55,75,23,456,232}\n",
    "#output:{12,34,44,456,232}\n",
    "#print sum([12,34,44,456,232])\n",
    "\n",
    "\n",
    "eli=[]\n",
    "for val in li:\n",
    "    if val%2==0:\n",
    "        eli.append(val)\n",
    "print(eli)\n",
    "#sm=0\n",
    "#for i in eli:\n",
    " #   sm+=i\n",
    "#print(sm)\n",
    "print(sum(eli))"
   ]
  },
  {
   "cell_type": "code",
   "execution_count": 7,
   "metadata": {},
   "outputs": [
    {
     "name": "stdout",
     "output_type": "stream",
     "text": [
      "[11, 22, 25, 23, 39, 42]\n"
     ]
    }
   ],
   "source": [
    "l=[11,22,11,22,25,23,25,39,39,42]\n",
    "l2=[]\n",
    "for i in l:\n",
    "    if i not in l2:\n",
    "        l2.append(i)\n",
    "print(l2)\n"
   ]
  },
  {
   "cell_type": "code",
   "execution_count": 20,
   "metadata": {},
   "outputs": [
    {
     "data": {
      "text/plain": [
       "[9, 7, 5, 3, 1]"
      ]
     },
     "execution_count": 20,
     "metadata": {},
     "output_type": "execute_result"
    }
   ],
   "source": [
    "# print the even number is assending order and print the odd number in desending order in a list\n",
    "\n",
    "[1,2,3,4,5,6,7,8,9]\n",
    "\n",
    "li=[2,4,6,8,9,7,5,3,1]\n",
    "\n",
    "\n",
    "evenlist=[]\n",
    "oddlist=[]\n",
    "\n",
    "for i in li:\n",
    "    if(i%2==0):\n",
    "        evenlist.append(i)\n",
    "    else:\n",
    "        oddlist.append(i)\n",
    "evenlist\n",
    "oddlist\n",
    "#evenlist+oddlist[::-1]\n",
    "\n"
   ]
  },
  {
   "cell_type": "code",
   "execution_count": 22,
   "metadata": {},
   "outputs": [],
   "source": [
    "oddlist.sort(reverse=True)"
   ]
  },
  {
   "cell_type": "code",
   "execution_count": 23,
   "metadata": {},
   "outputs": [
    {
     "data": {
      "text/plain": [
       "[9, 7, 5, 3, 1]"
      ]
     },
     "execution_count": 23,
     "metadata": {},
     "output_type": "execute_result"
    }
   ],
   "source": [
    "oddlist"
   ]
  },
  {
   "cell_type": "code",
   "execution_count": 30,
   "metadata": {},
   "outputs": [],
   "source": [
    "#print the min values and 2nd min val\n",
    "li=[10,2,23,5,60]\n",
    "li.sort()"
   ]
  },
  {
   "cell_type": "code",
   "execution_count": 31,
   "metadata": {},
   "outputs": [
    {
     "name": "stdout",
     "output_type": "stream",
     "text": [
      "min value is 11\n",
      "second min value is 22\n"
     ]
    }
   ],
   "source": [
    "print(\"min value is\",l[0])\n",
    "print(\"second min value is\",l[1])"
   ]
  },
  {
   "cell_type": "code",
   "execution_count": null,
   "metadata": {},
   "outputs": [],
   "source": []
  }
 ],
 "metadata": {
  "kernelspec": {
   "display_name": "Python 3",
   "language": "python",
   "name": "python3"
  },
  "language_info": {
   "codemirror_mode": {
    "name": "ipython",
    "version": 3
   },
   "file_extension": ".py",
   "mimetype": "text/x-python",
   "name": "python",
   "nbconvert_exporter": "python",
   "pygments_lexer": "ipython3",
   "version": "3.7.4"
  }
 },
 "nbformat": 4,
 "nbformat_minor": 4
}

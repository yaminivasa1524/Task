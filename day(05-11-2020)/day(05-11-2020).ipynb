{
 "cells": [
  {
   "cell_type": "markdown",
   "metadata": {},
   "source": [
    "Input.txt :\n",
    "\n",
    "    2 10\n",
    "    5 15\n",
    "Output.txt :\n",
    "\n",
    " 2 table upto 10 rows\n",
    "\n",
    " 5 table upto 15 rows"
   ]
  },
  {
   "cell_type": "code",
   "execution_count": 74,
   "metadata": {},
   "outputs": [
    {
     "name": "stdout",
     "output_type": "stream",
     "text": [
      "4 6\n"
     ]
    }
   ],
   "source": [
    "with open(\"input2.text\",\"a\")as ft:\n",
    "    p=input()\n",
    "    ft.write(p+\"\\n\")"
   ]
  },
  {
   "cell_type": "code",
   "execution_count": 2,
   "metadata": {},
   "outputs": [
    {
     "name": "stdout",
     "output_type": "stream",
     "text": [
      "2 10\n",
      "2 10 <class 'str'>\n",
      "0 <class 'str'>\n"
     ]
    }
   ],
   "source": [
    "n=input()\n",
    "print(n,type(n))\n",
    "t=n[3]\n",
    "print(t,type(t))"
   ]
  },
  {
   "cell_type": "code",
   "execution_count": 3,
   "metadata": {},
   "outputs": [
    {
     "name": "stdout",
     "output_type": "stream",
     "text": [
      "5 15\n",
      "5 X 01=05\n",
      "5 X 02=10\n",
      "5 X 03=15\n",
      "5 X 04=20\n",
      "5 X 05=25\n",
      "5 X 06=30\n",
      "5 X 07=35\n",
      "5 X 08=40\n",
      "5 X 09=45\n",
      "5 X 10=50\n",
      "5 X 11=55\n",
      "5 X 12=60\n",
      "5 X 13=65\n",
      "5 X 14=70\n",
      "5 X 15=75\n"
     ]
    }
   ],
   "source": [
    "n=input().split()\n",
    "t=int(n[0])\n",
    "r=int(n[1])\n",
    "for i in range(1,r+1):\n",
    "    print(\"{} X {:02}={:02}\".format(t,i,t*i))"
   ]
  },
  {
   "cell_type": "code",
   "execution_count": 75,
   "metadata": {},
   "outputs": [],
   "source": [
    "with open(\"input2.text\",\"r\")as fr:\n",
    "    r=fr.readlines()\n",
    "    f=open(\"output1.text\",\"w\")\n",
    "    for t in r:\n",
    "        y=t.split(\"\\n\")[0]\n",
    "        p=y.split()\n",
    "        ta=int(p[0])\n",
    "        ra=int(p[1])\n",
    "        m = \"\"\n",
    "        with open(\"output2.txt\",\"a\")as fp:\n",
    "            for j in range(1,ra+1):\n",
    "                m = m+\"{} X {} ={}\".format(ta,j,ta*j)+\"\\n\"\n",
    "            fp.write(m)\n",
    "            fp.write(\"\\n\")"
   ]
  },
  {
   "cell_type": "code",
   "execution_count": null,
   "metadata": {},
   "outputs": [],
   "source": [
    "studentsmarks.text:\n",
    "    \n",
    "    s.no      name       maths      physucs   chemistry   hindi   telugu\n",
    "    01        raju       45          56           87        80        59       \n",
    "    02        suresh     47          87           54        90        98  \n",
    "   \n",
    "\n",
    "studentsgrade.text\n",
    "    s.no     name       total   grade\n",
    "    01       suresh      450     A\n",
    "    \n",
    "    \n",
    "    "
   ]
  },
  {
   "cell_type": "code",
   "execution_count": 4,
   "metadata": {},
   "outputs": [
    {
     "name": "stdout",
     "output_type": "stream",
     "text": [
      "    s.no      name       maths      physucs   chemistry   hindi   telugu     01        raju       45          56           87        80        59            02        suresh     47          87           54        90        98\n"
     ]
    }
   ],
   "source": [
    "with open(\"input9.text\",\"a\")as ft:\n",
    "    p=input()\n",
    "    ft.write(p+\"\\n\")"
   ]
  },
  {
   "cell_type": "code",
   "execution_count": 16,
   "metadata": {},
   "outputs": [
    {
     "ename": "ValueError",
     "evalue": "invalid literal for int() with base 10: 's.no'",
     "output_type": "error",
     "traceback": [
      "\u001b[1;31m---------------------------------------------------------------------------\u001b[0m",
      "\u001b[1;31mValueError\u001b[0m                                Traceback (most recent call last)",
      "\u001b[1;32m<ipython-input-16-1f4f01588d13>\u001b[0m in \u001b[0;36m<module>\u001b[1;34m\u001b[0m\n\u001b[0;32m      4\u001b[0m         \u001b[0my\u001b[0m\u001b[1;33m=\u001b[0m\u001b[0mt\u001b[0m\u001b[1;33m.\u001b[0m\u001b[0msplit\u001b[0m\u001b[1;33m(\u001b[0m\u001b[1;34m\"\\n\"\u001b[0m\u001b[1;33m)\u001b[0m\u001b[1;33m[\u001b[0m\u001b[1;36m0\u001b[0m\u001b[1;33m]\u001b[0m\u001b[1;33m\u001b[0m\u001b[1;33m\u001b[0m\u001b[0m\n\u001b[0;32m      5\u001b[0m         \u001b[0mp\u001b[0m\u001b[1;33m=\u001b[0m\u001b[0my\u001b[0m\u001b[1;33m.\u001b[0m\u001b[0msplit\u001b[0m\u001b[1;33m(\u001b[0m\u001b[1;33m)\u001b[0m\u001b[1;33m\u001b[0m\u001b[1;33m\u001b[0m\u001b[0m\n\u001b[1;32m----> 6\u001b[1;33m         \u001b[0mta\u001b[0m\u001b[1;33m=\u001b[0m\u001b[0mint\u001b[0m\u001b[1;33m(\u001b[0m\u001b[0mp\u001b[0m\u001b[1;33m[\u001b[0m\u001b[1;36m0\u001b[0m\u001b[1;33m]\u001b[0m\u001b[1;33m)\u001b[0m\u001b[1;33m\u001b[0m\u001b[1;33m\u001b[0m\u001b[0m\n\u001b[0m\u001b[0;32m      7\u001b[0m         \u001b[0mra\u001b[0m\u001b[1;33m=\u001b[0m\u001b[0mint\u001b[0m\u001b[1;33m(\u001b[0m\u001b[0mp\u001b[0m\u001b[1;33m[\u001b[0m\u001b[1;36m1\u001b[0m\u001b[1;33m]\u001b[0m\u001b[1;33m)\u001b[0m\u001b[1;33m\u001b[0m\u001b[1;33m\u001b[0m\u001b[0m\n\u001b[0;32m      8\u001b[0m         \u001b[0mm\u001b[0m \u001b[1;33m=\u001b[0m \u001b[1;34m\"\"\u001b[0m\u001b[1;33m\u001b[0m\u001b[1;33m\u001b[0m\u001b[0m\n",
      "\u001b[1;31mValueError\u001b[0m: invalid literal for int() with base 10: 's.no'"
     ]
    }
   ],
   "source": [
    "with open(\"input9.text\",\"r\")as fr:\n",
    "    r=fr.readlines()\n",
    "    for t in r:\n",
    "        y=t.split(\"\\n\")[0]\n",
    "        p=y.split()\n",
    "        ta=int(p[0])\n",
    "        ra=int(p[1])\n",
    "        m = \"\"\n",
    "        print(m)\n",
    "#        with open(\"output9.txt\",\"a\")as fp:\n",
    "#           for j in range(1,ra+1):\n",
    "#               m = m+\"--|\"\n",
    "#\n",
    "#             print(\"\\n\")\n",
    "#            print(m)\n",
    "        "
   ]
  },
  {
   "cell_type": "code",
   "execution_count": null,
   "metadata": {},
   "outputs": [],
   "source": []
  }
 ],
 "metadata": {
  "kernelspec": {
   "display_name": "Python 3",
   "language": "python",
   "name": "python3"
  },
  "language_info": {
   "codemirror_mode": {
    "name": "ipython",
    "version": 3
   },
   "file_extension": ".py",
   "mimetype": "text/x-python",
   "name": "python",
   "nbconvert_exporter": "python",
   "pygments_lexer": "ipython3",
   "version": "3.7.4"
  }
 },
 "nbformat": 4,
 "nbformat_minor": 4
}

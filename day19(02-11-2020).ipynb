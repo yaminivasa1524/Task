{
 "cells": [
  {
   "cell_type": "code",
   "execution_count": 1,
   "metadata": {},
   "outputs": [
    {
     "name": "stdout",
     "output_type": "stream",
     "text": [
      "count:18\n"
     ]
    }
   ],
   "source": [
    "# find number of characters in a given string without using len()\n",
    "# you have to read string from user i.e python programming\n",
    "# count = 18\n",
    "p=\"python programming\"\n",
    "co=0\n",
    "for h in p:\n",
    "    co+=1\n",
    "print(\"count:{}\".format(co));"
   ]
  },
  {
   "cell_type": "code",
   "execution_count": 4,
   "metadata": {},
   "outputs": [
    {
     "name": "stdout",
     "output_type": "stream",
     "text": [
      "{'p': 2, 'y': 1, 't': 1, 'h': 1, 'o': 2, 'n': 2, ' ': 1, 'r': 2, 'g': 2, 'a': 1, 'm': 2, 'i': 1}\n"
     ]
    }
   ],
   "source": [
    "def frequency(p):\n",
    "    dict = {}\n",
    "    for n in p:\n",
    "        keys = dict.keys()\n",
    "        if n in keys:\n",
    "            dict[n] += 1\n",
    "        else:\n",
    "            dict[n] = 1\n",
    "    return dict\n",
    "print(frequency('python programming'))"
   ]
  },
  {
   "cell_type": "code",
   "execution_count": 36,
   "metadata": {},
   "outputs": [
    {
     "name": "stdout",
     "output_type": "stream",
     "text": [
      "count : 5\n"
     ]
    }
   ],
   "source": [
    "#m=\"this is python internship program\"\n",
    "#wods=>5\n",
    "\n",
    "#character count=>?\n",
    "#vowels=>4\n",
    "#a->1\n",
    "#e->1\n",
    "#i->3\n",
    "#o->2\n",
    "p= \"this is python internship program\"\n",
    "r= len(p.split())\n",
    "print (\"count : \" + str(r))\n",
    "\n"
   ]
  },
  {
   "cell_type": "code",
   "execution_count": null,
   "metadata": {},
   "outputs": [],
   "source": [
    "p= \"this is python internship program\"\n",
    "count=0\n",
    "\n",
    "r= len(p.split())\n",
    "print (\"count : \" + str(r))\n"
   ]
  },
  {
   "cell_type": "code",
   "execution_count": 51,
   "metadata": {},
   "outputs": [
    {
     "name": "stdout",
     "output_type": "stream",
     "text": [
      "{'y', 'o', 'h', 'g', 'r', 'a', 'i', 't', ' ', 'n', 'p', 'm'}\n",
      "y => 1 y\n",
      "o => 2 o\n",
      "h => 1 h\n",
      "g => 2 g\n",
      "r => 2 r\n",
      "a => 1 a\n",
      "i => 1 i\n",
      "t => 1 t\n",
      "  => 1  \n",
      "n => 2 n\n",
      "p => 2 p\n",
      "m => 2 m\n"
     ]
    }
   ],
   "source": [
    "mn=\"python programming\"\n",
    "print(set(mn))\n",
    "for ak in set(mn):\n",
    "    if ak in mn:\n",
    "        print(ak,\"=>\",mn.count(ak),ak)"
   ]
  },
  {
   "cell_type": "code",
   "execution_count": 54,
   "metadata": {},
   "outputs": [
    {
     "name": "stdout",
     "output_type": "stream",
     "text": [
      "python programming\n",
      "y => 1\n",
      "o => 2\n",
      "h => 1\n",
      "g => 2\n",
      "r => 2\n",
      "a => 1\n",
      "i => 1\n",
      "t => 1\n",
      "  => 1\n",
      "n => 2\n",
      "p => 2\n",
      "m => 2\n"
     ]
    }
   ],
   "source": [
    "mn=\"python programming\"\n",
    "print((mn))\n",
    "for ak in set(mn):\n",
    "    if ak in mn:\n",
    "        print(ak,\"=>\",mn.count(ak))"
   ]
  },
  {
   "cell_type": "code",
   "execution_count": 57,
   "metadata": {},
   "outputs": [
    {
     "name": "stdout",
     "output_type": "stream",
     "text": [
      "python programming\n",
      "python programming\n",
      "2 p\n",
      "1 y\n",
      "1 t\n",
      "1 h\n",
      "2 o\n",
      "2 n\n",
      "1  \n",
      "2 p\n",
      "2 r\n",
      "2 o\n",
      "2 g\n",
      "2 r\n",
      "1 a\n",
      "2 m\n",
      "2 m\n",
      "1 i\n",
      "2 n\n",
      "2 g\n"
     ]
    }
   ],
   "source": [
    "mn=input()\n",
    "print(mn)\n",
    "for ak in mn:\n",
    "    if ak in mn:\n",
    "        print(mn.count(ak),ak)"
   ]
  },
  {
   "cell_type": "code",
   "execution_count": 62,
   "metadata": {},
   "outputs": [
    {
     "name": "stdout",
     "output_type": "stream",
     "text": [
      "d\n",
      "a\n",
      "a\n",
      "a\n",
      "a\n",
      "b\n",
      "c\n",
      "c\n"
     ]
    }
   ],
   "source": [
    "mn=\"daaaabcc\"\n",
    "dict={}\n",
    "for j in (mn):\n",
    "    print(j)"
   ]
  },
  {
   "cell_type": "code",
   "execution_count": 64,
   "metadata": {},
   "outputs": [
    {
     "name": "stdout",
     "output_type": "stream",
     "text": [
      "<class 'dict'>\n"
     ]
    }
   ],
   "source": [
    "k={}\n",
    "print(type(k))"
   ]
  },
  {
   "cell_type": "code",
   "execution_count": 67,
   "metadata": {},
   "outputs": [
    {
     "name": "stdout",
     "output_type": "stream",
     "text": [
      "{'d': 1, 'a': 4, 'b': 1, 'c': 2}\n"
     ]
    }
   ],
   "source": [
    "m=\"daaaabcc\"\n",
    "d={}\n",
    "for k in m:\n",
    "    d[k]=m.count(k)\n",
    "print(d)"
   ]
  },
  {
   "cell_type": "code",
   "execution_count": 68,
   "metadata": {},
   "outputs": [
    {
     "name": "stdout",
     "output_type": "stream",
     "text": [
      "{'d': 1, 'a': 4, 'b': 1, 'c': 2}\n",
      "{'d': 1, 'a': 4, 'b': 1, 'c': 2}\n",
      "{'d': 1, 'a': 4, 'b': 1, 'c': 2}\n",
      "{'d': 1, 'a': 4, 'b': 1, 'c': 2}\n"
     ]
    }
   ],
   "source": [
    "m=\"daaaabcc\"\n",
    "d={}\n",
    "for k in m:\n",
    "    d[k]=m.count(k)\n",
    "for i,j in d.items():\n",
    "    print(d)"
   ]
  },
  {
   "cell_type": "code",
   "execution_count": null,
   "metadata": {},
   "outputs": [],
   "source": [
    "## wap to count the number of factors of a given number\n",
    "## wap to find sencond largest factor of a given number\n",
    "## wap to find second second smallest factor of a given number\n",
    "## wap to count all thr prime numbers betwwen 1 to 100\n",
    "## wap to find sum of all prime numbers between 1 to 100\n",
    "## wap to find largestt and smallest prime number between 1 to 100\n"
   ]
  }
 ],
 "metadata": {
  "kernelspec": {
   "display_name": "Python 3",
   "language": "python",
   "name": "python3"
  },
  "language_info": {
   "codemirror_mode": {
    "name": "ipython",
    "version": 3
   },
   "file_extension": ".py",
   "mimetype": "text/x-python",
   "name": "python",
   "nbconvert_exporter": "python",
   "pygments_lexer": "ipython3",
   "version": "3.7.4"
  }
 },
 "nbformat": 4,
 "nbformat_minor": 4
}
